{
  "nbformat": 4,
  "nbformat_minor": 0,
  "metadata": {
    "colab": {
      "provenance": [],
      "gpuType": "T4"
    },
    "kernelspec": {
      "name": "python3",
      "display_name": "Python 3"
    },
    "language_info": {
      "name": "python"
    },
    "accelerator": "GPU"
  },
  "cells": [
    {
      "cell_type": "code",
      "execution_count": 2,
      "metadata": {
        "colab": {
          "base_uri": "https://localhost:8080/"
        },
        "id": "z9yFBZNvuNDZ",
        "outputId": "7b7f6fe5-794f-4c35-a218-4cf37d9bd684"
      },
      "outputs": [
        {
          "output_type": "stream",
          "name": "stdout",
          "text": [
            "Mounted at /content/drive\n",
            "/content/drive/MyDrive/11-711/NLPfromScratch\n"
          ]
        }
      ],
      "source": [
        "from google.colab import drive\n",
        "drive.mount('/content/drive')\n",
        "%cd /content/drive/MyDrive/11-711/\n",
        "!mkdir -p NLPfromScratch\n",
        "%cd /content/drive/MyDrive/11-711/NLPfromScratch\n",
        "\n",
        "# clone current model_train branch\n",
        "# !!!!!! Replace in below command with your git username and token !!!!!!\n",
        "!git clone -b model_train https://<username>:<gittoken>@github.com/yoonichoi/anlp-NLPfromScratch.git\n",
        "! wget https://repo.anaconda.com/miniconda/Miniconda3-py37_4.12.0-Linux-x86_64.sh\n",
        "! wget https://repo.anaconda.com/miniconda/Miniconda3-latest-Linux-x86_64.sh\n",
        "! chmod +x Miniconda3-latest-Linux-x86_64.sh\n",
        "! bash ./Miniconda3-latest-Linux-x86_64.sh -b -f -p /usr/local/"
      ]
    },
    {
      "cell_type": "code",
      "source": [
        "%cd anlp-NLPfromScratch\n",
        "%pwd"
      ],
      "metadata": {
        "colab": {
          "base_uri": "https://localhost:8080/",
          "height": 53
        },
        "id": "6DPBcCJGuN66",
        "outputId": "1cd42dfb-514a-4566-e454-8fe570eccbfd"
      },
      "execution_count": 3,
      "outputs": [
        {
          "output_type": "stream",
          "name": "stdout",
          "text": [
            "/content/drive/MyDrive/11-711/NLPfromScratch/anlp-NLPfromScratch\n"
          ]
        },
        {
          "output_type": "execute_result",
          "data": {
            "text/plain": [
              "'/content/drive/MyDrive/11-711/NLPfromScratch/anlp-NLPfromScratch'"
            ],
            "application/vnd.google.colaboratory.intrinsic+json": {
              "type": "string"
            }
          },
          "metadata": {},
          "execution_count": 3
        }
      ]
    },
    {
      "cell_type": "code",
      "source": [
        "!chmod +x setup.sh\n",
        "!yes | source setup.sh"
      ],
      "metadata": {
        "id": "BQCSCB0IbuR2"
      },
      "execution_count": null,
      "outputs": []
    },
    {
      "cell_type": "markdown",
      "source": [
        "## Train model"
      ],
      "metadata": {
        "id": "G_0-yOJKttAb"
      }
    },
    {
      "cell_type": "code",
      "source": [
        "!python3 scibert_train.py --batch_size 4096 --epochs 1 --use_gpu"
      ],
      "metadata": {
        "colab": {
          "base_uri": "https://localhost:8080/"
        },
        "id": "tWN05C6ZehWg",
        "outputId": "40228c45-0fe9-4eb9-9909-ed68a25fbc67"
      },
      "execution_count": 23,
      "outputs": [
        {
          "output_type": "stream",
          "name": "stdout",
          "text": [
            "args: {'model': 'allenai/scibert_scivocab_cased', 'use_gpu': True, 'datadir': 'data/splits/', 'test_out': 'test_out.csv', 'option': 'finetune', 'batch_size': 4096, 'optimizer': 'Adam', 'loss': 'CrossEntropy', 'epochs': 1, 'lr': 0.001}\n",
            "Some weights of BertForTokenClassification were not initialized from the model checkpoint at allenai/scibert_scivocab_cased and are newly initialized: ['classifier.weight', 'classifier.bias']\n",
            "You should probably TRAIN this model on a down-stream task to be able to use it for predictions and inference.\n",
            "Start Training allenai/scibert_scivocab_cased with finetune mode\n",
            "train-0: 100% 50/50 [00:38<00:00,  1.31it/s]\n",
            "eval: 100% 50/50 [00:18<00:00,  2.71it/s]\n",
            "/usr/local/lib/python3.10/dist-packages/sklearn/metrics/_classification.py:1344: UndefinedMetricWarning: Precision is ill-defined and being set to 0.0 in labels with no predicted samples. Use `zero_division` parameter to control this behavior.\n",
            "  _warn_prf(average, modifier, msg_start, len(result))\n",
            "eval: 100% 7/7 [00:02<00:00,  2.98it/s]\n",
            "/usr/local/lib/python3.10/dist-packages/sklearn/metrics/_classification.py:1344: UndefinedMetricWarning: Precision is ill-defined and being set to 0.0 in labels with no predicted samples. Use `zero_division` parameter to control this behavior.\n",
            "  _warn_prf(average, modifier, msg_start, len(result))\n",
            "Model saved at 20231016-18:16:07_finetune-1-0.001.pt\n",
            "epoch1/1: train_loss: 0.478, train_acc: 0.940, dev_acc: 0.940\n",
            "Some weights of BertForTokenClassification were not initialized from the model checkpoint at allenai/scibert_scivocab_cased and are newly initialized: ['classifier.weight', 'classifier.bias']\n",
            "You should probably TRAIN this model on a down-stream task to be able to use it for predictions and inference.\n",
            "load model from 20231016-18:16:07_finetune-1-0.001.pt\n",
            "eval: 100% 7/7 [00:02<00:00,  3.50it/s]\n",
            "/usr/local/lib/python3.10/dist-packages/sklearn/metrics/_classification.py:1344: UndefinedMetricWarning: Precision is ill-defined and being set to 0.0 in labels with no predicted samples. Use `zero_division` parameter to control this behavior.\n",
            "  _warn_prf(average, modifier, msg_start, len(result))\n",
            "test acc :: 0.939, test f1 :: 0.909\n"
          ]
        }
      ]
    }
  ]
}